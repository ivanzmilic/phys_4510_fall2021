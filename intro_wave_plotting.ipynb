{
 "cells": [
  {
   "cell_type": "markdown",
   "id": "488c0a0f",
   "metadata": {},
   "source": [
    "# Intro to python and plotting some basic waves\n",
    "\n",
    "First of all, python is based on the packages, so we will first have to \"import\" some of these: "
   ]
  },
  {
   "cell_type": "code",
   "execution_count": 1,
   "id": "81d5fe19",
   "metadata": {},
   "outputs": [],
   "source": [
    "import numpy as np # This one gives us some more advanced numerical functionallity\n",
    "import matplotlib.pyplot as plt # This one allows us to easily plot our results "
   ]
  },
  {
   "cell_type": "markdown",
   "id": "978e6859",
   "metadata": {},
   "source": [
    "### Example 1: Plot a Gaussian wave at t = 0, and then at some later t. "
   ]
  },
  {
   "cell_type": "markdown",
   "id": "8f433fe3",
   "metadata": {},
   "source": [
    "### Example 2: Make a 2D plot that illustrates the evolution of a Gaussian wave in time. "
   ]
  },
  {
   "cell_type": "markdown",
   "id": "dd6e7ee0",
   "metadata": {},
   "source": [
    "### Example 3: Sketch a 1D harmonic plane wave "
   ]
  },
  {
   "cell_type": "markdown",
   "id": "2caac01d",
   "metadata": {},
   "source": [
    "### Example 4: Add two 1D harmonic plane waves "
   ]
  },
  {
   "cell_type": "markdown",
   "id": "d849876f",
   "metadata": {},
   "source": [
    "### Example 5: Plot the time evolution of a harmonic plane wave"
   ]
  },
  {
   "cell_type": "code",
   "execution_count": null,
   "id": "fe357099",
   "metadata": {},
   "outputs": [],
   "source": []
  }
 ],
 "metadata": {
  "kernelspec": {
   "display_name": "Python 3 (ipykernel)",
   "language": "python",
   "name": "python3"
  },
  "language_info": {
   "codemirror_mode": {
    "name": "ipython",
    "version": 3
   },
   "file_extension": ".py",
   "mimetype": "text/x-python",
   "name": "python",
   "nbconvert_exporter": "python",
   "pygments_lexer": "ipython3",
   "version": "3.8.8"
  }
 },
 "nbformat": 4,
 "nbformat_minor": 5
}
